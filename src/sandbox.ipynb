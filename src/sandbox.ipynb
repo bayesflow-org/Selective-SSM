{
 "cells": [
  {
   "cell_type": "markdown",
   "metadata": {},
   "source": [
    "# Selective SSM\n",
    "\n",
    "Authors: Chase T. Grajeda, Stefan T. Radev"
   ]
  },
  {
   "cell_type": "markdown",
   "metadata": {},
   "source": [
    "### Imports"
   ]
  },
  {
   "cell_type": "code",
   "execution_count": 1,
   "metadata": {},
   "outputs": [
    {
     "name": "stderr",
     "output_type": "stream",
     "text": [
      "/home/chase/miniconda3/envs/ssm/lib/python3.11/site-packages/tqdm/auto.py:21: TqdmWarning: IProgress not found. Please update jupyter and ipywidgets. See https://ipywidgets.readthedocs.io/en/stable/user_install.html\n",
      "  from .autonotebook import tqdm as notebook_tqdm\n",
      "INFO:bayesflow:Using backend 'torch'\n"
     ]
    }
   ],
   "source": [
    "import os\n",
    "import sys\n",
    "os.environ[\"KERAS_BACKEND\"] = \"torch\"\n",
    "\n",
    "import torch\n",
    "import keras\n",
    "\n",
    "import bayesflow as bf"
   ]
  },
  {
   "cell_type": "markdown",
   "metadata": {},
   "source": [
    "### Verify GPU is accessible"
   ]
  },
  {
   "cell_type": "code",
   "execution_count": 2,
   "metadata": {},
   "outputs": [
    {
     "name": "stdout",
     "output_type": "stream",
     "text": [
      "NVIDIA GeForce GTX 1650 Ti with Max-Q Design\n",
      "Available devices: 1\n"
     ]
    }
   ],
   "source": [
    "print(torch.cuda.get_device_name(torch.cuda.current_device()))\n",
    "print(\"Available devices:\", torch.cuda.device_count())"
   ]
  },
  {
   "cell_type": "markdown",
   "metadata": {},
   "source": [
    "### Verify Keras sees GPU"
   ]
  },
  {
   "cell_type": "code",
   "execution_count": 3,
   "metadata": {},
   "outputs": [
    {
     "data": {
      "text/plain": [
       "tensor([[-1.6568,  0.2585,  0.4263, -0.6992,  0.4138],\n",
       "        [-0.3243, -0.3554, -0.1883,  0.3926, -0.4878],\n",
       "        [ 0.6739,  0.0778,  0.4863, -1.4466, -1.8910],\n",
       "        [ 0.3243, -1.4772, -0.7604, -0.9140, -1.6817],\n",
       "        [ 0.6275, -1.0777,  0.3677,  0.9659,  0.5377]], device='cuda:0')"
      ]
     },
     "execution_count": 3,
     "metadata": {},
     "output_type": "execute_result"
    }
   ],
   "source": [
    "keras.random.normal((5,5)).to(\"cuda\")"
   ]
  },
  {
   "cell_type": "markdown",
   "metadata": {},
   "source": [
    "### Test pass on Mamba"
   ]
  },
  {
   "cell_type": "code",
   "execution_count": 7,
   "metadata": {},
   "outputs": [
    {
     "name": "stdout",
     "output_type": "stream",
     "text": [
      "tensor([[ 1.1397e-03,  1.5649e-03,  1.9013e-03,  1.8614e-03,  1.6513e-03,\n",
      "         -2.1958e-04,  1.4873e-03,  2.5127e-03],\n",
      "        [-7.6894e-06, -1.0557e-05, -1.2827e-05, -1.2558e-05, -1.1141e-05,\n",
      "          1.4814e-06, -1.0034e-05, -1.6952e-05]], device='cuda:0')\n"
     ]
    }
   ],
   "source": [
    "summarynet = bf.wrappers.MambaSSM(pooling=True, dropout=0.5).to(\"cuda\")\n",
    "x = keras.random.normal((2, 14, 1)).to(\"cuda\")\n",
    "z = summarynet(x)\n",
    "print(z)"
   ]
  }
 ],
 "metadata": {
  "kernelspec": {
   "display_name": "ssm",
   "language": "python",
   "name": "python3"
  },
  "language_info": {
   "codemirror_mode": {
    "name": "ipython",
    "version": 3
   },
   "file_extension": ".py",
   "mimetype": "text/x-python",
   "name": "python",
   "nbconvert_exporter": "python",
   "pygments_lexer": "ipython3",
   "version": "3.11.11"
  }
 },
 "nbformat": 4,
 "nbformat_minor": 2
}
